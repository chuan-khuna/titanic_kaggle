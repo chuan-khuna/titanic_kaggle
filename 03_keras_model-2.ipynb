{
 "cells": [
  {
   "cell_type": "code",
   "execution_count": 1,
   "metadata": {},
   "outputs": [],
   "source": [
    "import numpy as np\n",
    "\n",
    "seed_ = 20200218\n",
    "np.random.seed(seed_)\n",
    "\n",
    "import pandas as pd\n",
    "import seaborn as sns\n",
    "import matplotlib.pyplot as plt\n",
    "\n",
    "sns.set(context='paper', style='whitegrid', rc={'figure.figsize':(21/2, 9/2), 'figure.dpi': 120})\n",
    "color_palette = sns.color_palette(\"Set2\")\n",
    "sns.set_palette(color_palette)\n",
    "\n",
    "from sklearn.preprocessing import StandardScaler\n",
    "from sklearn.model_selection import train_test_split\n",
    "\n",
    "import keras.backend as K\n",
    "from keras.models import Model, Sequential\n",
    "from keras.layers import Dense, Input\n",
    "from keras.optimizers import Adam"
   ]
  },
  {
   "cell_type": "markdown",
   "metadata": {},
   "source": [
    "## Pre-processing Data"
   ]
  },
  {
   "cell_type": "code",
   "execution_count": 2,
   "metadata": {},
   "outputs": [],
   "source": [
    "df = pd.read_csv(\"./data/train_cleaned.csv\")\n",
    "X = df.drop(columns=['Survived'], axis=1)\n",
    "y = df['Survived']"
   ]
  },
  {
   "cell_type": "code",
   "execution_count": 3,
   "metadata": {},
   "outputs": [],
   "source": [
    "scaler = StandardScaler()\n",
    "scaler.fit(X)\n",
    "\n",
    "X_normalized = scaler.transform(X)"
   ]
  },
  {
   "cell_type": "code",
   "execution_count": 4,
   "metadata": {},
   "outputs": [],
   "source": [
    "X_train, X_test, y_train, y_test = train_test_split(X_normalized, y, test_size=0.2)"
   ]
  },
  {
   "cell_type": "markdown",
   "metadata": {},
   "source": [
    "## Model\n",
    "\n",
    "ลองสร้างโมเดล keras ในรูปแบบ\n",
    "\n",
    "```\n",
    "x = Layer.... (x)\n",
    "....\n",
    "```\n",
    "แทนแบบ\n",
    "```\n",
    "model = Sequential()\n",
    "model.add(layer ...)\n",
    "...\n",
    "```"
   ]
  },
  {
   "cell_type": "markdown",
   "metadata": {},
   "source": [
    "### function my_model\n",
    "\n",
    "จะรีเทิร์น model ที่รับ X เพื่อทำนาย y จากการส่งผ่านเลเยอร์ต่างๆ\n",
    "\n",
    "ตัวโมเดลที่รีเทิร์นเหมือนกับ model ในโค้ด\n",
    "```\n",
    "model = Sequential()\n",
    "model.add(Dense())\n",
    "...\n",
    "...\n",
    "\n",
    "model.compile()\n",
    "model.fit(X, y)\n",
    "```"
   ]
  },
  {
   "cell_type": "code",
   "execution_count": 5,
   "metadata": {},
   "outputs": [],
   "source": [
    "def my_model(input_shape):\n",
    "    X = Input(shape=(input_shape, ))\n",
    "    \n",
    "    x = Dense(8, activation='relu')(X)\n",
    "    x = Dense(4, activation='relu')(x)\n",
    "    x = Dense(1, activation='sigmoid')(x)\n",
    "    \n",
    "    model = Model(inputs=[X], outputs=[x])\n",
    "    \n",
    "    return model"
   ]
  },
  {
   "cell_type": "code",
   "execution_count": 6,
   "metadata": {},
   "outputs": [],
   "source": [
    "num_feature = X_train.shape[1]\n",
    "\n",
    "model = my_model(num_feature)"
   ]
  },
  {
   "cell_type": "code",
   "execution_count": 7,
   "metadata": {},
   "outputs": [
    {
     "name": "stdout",
     "output_type": "stream",
     "text": [
      "Model: \"model\"\n",
      "_________________________________________________________________\n",
      "Layer (type)                 Output Shape              Param #   \n",
      "=================================================================\n",
      "input_1 (InputLayer)         [(None, 9)]               0         \n",
      "_________________________________________________________________\n",
      "dense (Dense)                (None, 8)                 80        \n",
      "_________________________________________________________________\n",
      "dense_1 (Dense)              (None, 4)                 36        \n",
      "_________________________________________________________________\n",
      "dense_2 (Dense)              (None, 1)                 5         \n",
      "=================================================================\n",
      "Total params: 121\n",
      "Trainable params: 121\n",
      "Non-trainable params: 0\n",
      "_________________________________________________________________\n"
     ]
    }
   ],
   "source": [
    "model.summary()"
   ]
  },
  {
   "cell_type": "code",
   "execution_count": 8,
   "metadata": {},
   "outputs": [],
   "source": [
    "opt = Adam(learning_rate=0.01)\n",
    "model.compile(optimizer=opt, loss='binary_crossentropy', metrics=['accuracy'])"
   ]
  },
  {
   "cell_type": "code",
   "execution_count": 9,
   "metadata": {},
   "outputs": [
    {
     "name": "stdout",
     "output_type": "stream",
     "text": [
      "Epoch 1/50\n",
      "18/18 [==============================] - 0s 12ms/step - loss: 0.7130 - accuracy: 0.5757 - val_loss: 0.6098 - val_accuracy: 0.7676\n",
      "Epoch 2/50\n",
      "18/18 [==============================] - 0s 4ms/step - loss: 0.5714 - accuracy: 0.7465 - val_loss: 0.5009 - val_accuracy: 0.7887\n",
      "Epoch 3/50\n",
      "18/18 [==============================] - 0s 4ms/step - loss: 0.5399 - accuracy: 0.7588 - val_loss: 0.4720 - val_accuracy: 0.8521\n",
      "Epoch 4/50\n",
      "18/18 [==============================] - 0s 4ms/step - loss: 0.5090 - accuracy: 0.8011 - val_loss: 0.4583 - val_accuracy: 0.8310\n",
      "Epoch 5/50\n",
      "18/18 [==============================] - 0s 4ms/step - loss: 0.4845 - accuracy: 0.7958 - val_loss: 0.4471 - val_accuracy: 0.8169\n",
      "Epoch 6/50\n",
      "18/18 [==============================] - 0s 4ms/step - loss: 0.4680 - accuracy: 0.7887 - val_loss: 0.4424 - val_accuracy: 0.8169\n",
      "Epoch 7/50\n",
      "18/18 [==============================] - 0s 4ms/step - loss: 0.4592 - accuracy: 0.8063 - val_loss: 0.4250 - val_accuracy: 0.8310\n",
      "Epoch 8/50\n",
      "18/18 [==============================] - 0s 4ms/step - loss: 0.4426 - accuracy: 0.8011 - val_loss: 0.4149 - val_accuracy: 0.8169\n",
      "Epoch 9/50\n",
      "18/18 [==============================] - 0s 4ms/step - loss: 0.4329 - accuracy: 0.8099 - val_loss: 0.4098 - val_accuracy: 0.8239\n",
      "Epoch 10/50\n",
      "18/18 [==============================] - 0s 4ms/step - loss: 0.4230 - accuracy: 0.8151 - val_loss: 0.4078 - val_accuracy: 0.8310\n",
      "Epoch 11/50\n",
      "18/18 [==============================] - 0s 4ms/step - loss: 0.4142 - accuracy: 0.8134 - val_loss: 0.4022 - val_accuracy: 0.8239\n",
      "Epoch 12/50\n",
      "18/18 [==============================] - 0s 4ms/step - loss: 0.4159 - accuracy: 0.8134 - val_loss: 0.3874 - val_accuracy: 0.8662\n",
      "Epoch 13/50\n",
      "18/18 [==============================] - 0s 4ms/step - loss: 0.4104 - accuracy: 0.8099 - val_loss: 0.3978 - val_accuracy: 0.8380\n",
      "Epoch 14/50\n",
      "18/18 [==============================] - 0s 10ms/step - loss: 0.4064 - accuracy: 0.8099 - val_loss: 0.3981 - val_accuracy: 0.8310\n",
      "Epoch 15/50\n",
      "18/18 [==============================] - 0s 4ms/step - loss: 0.4057 - accuracy: 0.8116 - val_loss: 0.4023 - val_accuracy: 0.8239\n",
      "Epoch 16/50\n",
      "18/18 [==============================] - 0s 4ms/step - loss: 0.4030 - accuracy: 0.8099 - val_loss: 0.4000 - val_accuracy: 0.8451\n",
      "Epoch 17/50\n",
      "18/18 [==============================] - 0s 4ms/step - loss: 0.4036 - accuracy: 0.8099 - val_loss: 0.3951 - val_accuracy: 0.8380\n",
      "Epoch 18/50\n",
      "18/18 [==============================] - 0s 4ms/step - loss: 0.3982 - accuracy: 0.8116 - val_loss: 0.4050 - val_accuracy: 0.8239\n",
      "Epoch 19/50\n",
      "18/18 [==============================] - 0s 5ms/step - loss: 0.3921 - accuracy: 0.8292 - val_loss: 0.3859 - val_accuracy: 0.8662\n",
      "Epoch 20/50\n",
      "18/18 [==============================] - 0s 5ms/step - loss: 0.3942 - accuracy: 0.8134 - val_loss: 0.4027 - val_accuracy: 0.8380\n",
      "Epoch 21/50\n",
      "18/18 [==============================] - 0s 5ms/step - loss: 0.3958 - accuracy: 0.8099 - val_loss: 0.3964 - val_accuracy: 0.8239\n",
      "Epoch 22/50\n",
      "18/18 [==============================] - 0s 4ms/step - loss: 0.3880 - accuracy: 0.8169 - val_loss: 0.3884 - val_accuracy: 0.8592\n",
      "Epoch 23/50\n",
      "18/18 [==============================] - 0s 4ms/step - loss: 0.3938 - accuracy: 0.8116 - val_loss: 0.4002 - val_accuracy: 0.8099\n",
      "Epoch 24/50\n",
      "18/18 [==============================] - 0s 4ms/step - loss: 0.3906 - accuracy: 0.8187 - val_loss: 0.4032 - val_accuracy: 0.8310\n",
      "Epoch 25/50\n",
      "18/18 [==============================] - 0s 4ms/step - loss: 0.3841 - accuracy: 0.8257 - val_loss: 0.3955 - val_accuracy: 0.8592\n",
      "Epoch 26/50\n",
      "18/18 [==============================] - 0s 4ms/step - loss: 0.3838 - accuracy: 0.8292 - val_loss: 0.3997 - val_accuracy: 0.8239\n",
      "Epoch 27/50\n",
      "18/18 [==============================] - 0s 4ms/step - loss: 0.3874 - accuracy: 0.8363 - val_loss: 0.4172 - val_accuracy: 0.8239\n",
      "Epoch 28/50\n",
      "18/18 [==============================] - 0s 4ms/step - loss: 0.3811 - accuracy: 0.8275 - val_loss: 0.4273 - val_accuracy: 0.8310\n",
      "Epoch 29/50\n",
      "18/18 [==============================] - 0s 4ms/step - loss: 0.3806 - accuracy: 0.8204 - val_loss: 0.4218 - val_accuracy: 0.8380\n",
      "Epoch 30/50\n",
      "18/18 [==============================] - 0s 4ms/step - loss: 0.3771 - accuracy: 0.8275 - val_loss: 0.4104 - val_accuracy: 0.8169\n",
      "Epoch 31/50\n",
      "18/18 [==============================] - 0s 4ms/step - loss: 0.3747 - accuracy: 0.8310 - val_loss: 0.4043 - val_accuracy: 0.8380\n",
      "Epoch 32/50\n",
      "18/18 [==============================] - 0s 4ms/step - loss: 0.3752 - accuracy: 0.8239 - val_loss: 0.4184 - val_accuracy: 0.7958\n",
      "Epoch 33/50\n",
      "18/18 [==============================] - 0s 4ms/step - loss: 0.3720 - accuracy: 0.8345 - val_loss: 0.4022 - val_accuracy: 0.8380\n",
      "Epoch 34/50\n",
      "18/18 [==============================] - 0s 5ms/step - loss: 0.3737 - accuracy: 0.8292 - val_loss: 0.4160 - val_accuracy: 0.8239\n",
      "Epoch 35/50\n",
      "18/18 [==============================] - 0s 5ms/step - loss: 0.3852 - accuracy: 0.8222 - val_loss: 0.4126 - val_accuracy: 0.8310\n",
      "Epoch 36/50\n",
      "18/18 [==============================] - 0s 5ms/step - loss: 0.3746 - accuracy: 0.8327 - val_loss: 0.4238 - val_accuracy: 0.8310\n",
      "Epoch 37/50\n",
      "18/18 [==============================] - 0s 4ms/step - loss: 0.3695 - accuracy: 0.8363 - val_loss: 0.3970 - val_accuracy: 0.8451\n",
      "Epoch 38/50\n",
      "18/18 [==============================] - 0s 5ms/step - loss: 0.3690 - accuracy: 0.8345 - val_loss: 0.4077 - val_accuracy: 0.8380\n",
      "Epoch 39/50\n",
      "18/18 [==============================] - 0s 5ms/step - loss: 0.3672 - accuracy: 0.8380 - val_loss: 0.4049 - val_accuracy: 0.8451\n",
      "Epoch 40/50\n",
      "18/18 [==============================] - 0s 5ms/step - loss: 0.3781 - accuracy: 0.8275 - val_loss: 0.4224 - val_accuracy: 0.8310\n",
      "Epoch 41/50\n",
      "18/18 [==============================] - 0s 4ms/step - loss: 0.3804 - accuracy: 0.8239 - val_loss: 0.4131 - val_accuracy: 0.8310\n",
      "Epoch 42/50\n",
      "18/18 [==============================] - 0s 4ms/step - loss: 0.3717 - accuracy: 0.8345 - val_loss: 0.3998 - val_accuracy: 0.8380\n",
      "Epoch 43/50\n",
      "18/18 [==============================] - 0s 4ms/step - loss: 0.3695 - accuracy: 0.8345 - val_loss: 0.4228 - val_accuracy: 0.8380\n",
      "Epoch 44/50\n",
      "18/18 [==============================] - 0s 5ms/step - loss: 0.3695 - accuracy: 0.8239 - val_loss: 0.4092 - val_accuracy: 0.8310\n",
      "Epoch 45/50\n",
      "18/18 [==============================] - 0s 4ms/step - loss: 0.3653 - accuracy: 0.8380 - val_loss: 0.4142 - val_accuracy: 0.8310\n",
      "Epoch 46/50\n",
      "18/18 [==============================] - 0s 4ms/step - loss: 0.3649 - accuracy: 0.8345 - val_loss: 0.4097 - val_accuracy: 0.8380\n",
      "Epoch 47/50\n",
      "18/18 [==============================] - 0s 4ms/step - loss: 0.3647 - accuracy: 0.8275 - val_loss: 0.3911 - val_accuracy: 0.8592\n",
      "Epoch 48/50\n",
      "18/18 [==============================] - 0s 4ms/step - loss: 0.3767 - accuracy: 0.8380 - val_loss: 0.4420 - val_accuracy: 0.8380\n",
      "Epoch 49/50\n",
      "18/18 [==============================] - 0s 4ms/step - loss: 0.3641 - accuracy: 0.8451 - val_loss: 0.4040 - val_accuracy: 0.8380\n",
      "Epoch 50/50\n",
      "18/18 [==============================] - 0s 4ms/step - loss: 0.3590 - accuracy: 0.8398 - val_loss: 0.4049 - val_accuracy: 0.8310\n"
     ]
    },
    {
     "data": {
      "text/plain": [
       "<tensorflow.python.keras.callbacks.History at 0x1e398196f10>"
      ]
     },
     "execution_count": 9,
     "metadata": {},
     "output_type": "execute_result"
    }
   ],
   "source": [
    "model.fit(X_train, y_train, batch_size=32, epochs=50, validation_split=0.2)"
   ]
  },
  {
   "cell_type": "code",
   "execution_count": null,
   "metadata": {},
   "outputs": [],
   "source": []
  }
 ],
 "metadata": {
  "kernelspec": {
   "display_name": "Python 3",
   "language": "python",
   "name": "python3"
  },
  "language_info": {
   "codemirror_mode": {
    "name": "ipython",
    "version": 3
   },
   "file_extension": ".py",
   "mimetype": "text/x-python",
   "name": "python",
   "nbconvert_exporter": "python",
   "pygments_lexer": "ipython3",
   "version": "3.8.3"
  }
 },
 "nbformat": 4,
 "nbformat_minor": 4
}
