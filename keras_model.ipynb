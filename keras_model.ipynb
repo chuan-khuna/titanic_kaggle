{
 "cells": [
  {
   "cell_type": "code",
   "execution_count": 1,
   "metadata": {},
   "outputs": [],
   "source": [
    "import numpy as np\n",
    "\n",
    "seed_ = 20200218\n",
    "np.random.seed(seed_)\n",
    "\n",
    "import pandas as pd\n",
    "import seaborn as sns\n",
    "import matplotlib.pyplot as plt\n",
    "from scipy.cluster.hierarchy import dendrogram, linkage\n",
    "from scipy import stats\n",
    "\n",
    "sns.set(context='paper', style='whitegrid', rc={'figure.figsize':(21/2, 9/2), 'figure.dpi': 120})\n",
    "color_palette = sns.color_palette(\"Set2\")\n",
    "sns.set_palette(color_palette)\n",
    "\n",
    "# Sk-learn\n",
    "from sklearn.model_selection import train_test_split, GridSearchCV\n",
    "from sklearn.linear_model import LogisticRegression, RidgeClassifier\n",
    "from sklearn.preprocessing import StandardScaler\n",
    "from sklearn.metrics import classification_report, confusion_matrix\n",
    "from sklearn.preprocessing import StandardScaler\n",
    "\n",
    "# Keras\n",
    "from keras.models import Sequential\n",
    "from keras.layers import Dense, BatchNormalization, Dropout\n",
    "from keras.optimizers import SGD, Adam\n",
    "from keras.callbacks import EarlyStopping"
   ]
  },
  {
   "cell_type": "code",
   "execution_count": 2,
   "metadata": {},
   "outputs": [],
   "source": [
    "df = pd.read_csv(\"./data/train_cleaned.csv\")"
   ]
  },
  {
   "cell_type": "code",
   "execution_count": 3,
   "metadata": {},
   "outputs": [
    {
     "data": {
      "text/html": [
       "<div>\n",
       "<style scoped>\n",
       "    .dataframe tbody tr th:only-of-type {\n",
       "        vertical-align: middle;\n",
       "    }\n",
       "\n",
       "    .dataframe tbody tr th {\n",
       "        vertical-align: top;\n",
       "    }\n",
       "\n",
       "    .dataframe thead th {\n",
       "        text-align: right;\n",
       "    }\n",
       "</style>\n",
       "<table border=\"1\" class=\"dataframe\">\n",
       "  <thead>\n",
       "    <tr style=\"text-align: right;\">\n",
       "      <th></th>\n",
       "      <th>Pclass</th>\n",
       "      <th>Sex</th>\n",
       "      <th>Age</th>\n",
       "      <th>SibSp</th>\n",
       "      <th>Parch</th>\n",
       "      <th>Fare</th>\n",
       "      <th>Embarked_C</th>\n",
       "      <th>Embarked_Q</th>\n",
       "      <th>Embarked_S</th>\n",
       "    </tr>\n",
       "  </thead>\n",
       "  <tbody>\n",
       "    <tr>\n",
       "      <th>0</th>\n",
       "      <td>3</td>\n",
       "      <td>1</td>\n",
       "      <td>22.0</td>\n",
       "      <td>1</td>\n",
       "      <td>0</td>\n",
       "      <td>7.2500</td>\n",
       "      <td>0</td>\n",
       "      <td>0</td>\n",
       "      <td>1</td>\n",
       "    </tr>\n",
       "    <tr>\n",
       "      <th>1</th>\n",
       "      <td>1</td>\n",
       "      <td>0</td>\n",
       "      <td>38.0</td>\n",
       "      <td>1</td>\n",
       "      <td>0</td>\n",
       "      <td>71.2833</td>\n",
       "      <td>1</td>\n",
       "      <td>0</td>\n",
       "      <td>0</td>\n",
       "    </tr>\n",
       "    <tr>\n",
       "      <th>2</th>\n",
       "      <td>3</td>\n",
       "      <td>0</td>\n",
       "      <td>26.0</td>\n",
       "      <td>0</td>\n",
       "      <td>0</td>\n",
       "      <td>7.9250</td>\n",
       "      <td>0</td>\n",
       "      <td>0</td>\n",
       "      <td>1</td>\n",
       "    </tr>\n",
       "    <tr>\n",
       "      <th>3</th>\n",
       "      <td>1</td>\n",
       "      <td>0</td>\n",
       "      <td>35.0</td>\n",
       "      <td>1</td>\n",
       "      <td>0</td>\n",
       "      <td>53.1000</td>\n",
       "      <td>0</td>\n",
       "      <td>0</td>\n",
       "      <td>1</td>\n",
       "    </tr>\n",
       "    <tr>\n",
       "      <th>4</th>\n",
       "      <td>3</td>\n",
       "      <td>1</td>\n",
       "      <td>35.0</td>\n",
       "      <td>0</td>\n",
       "      <td>0</td>\n",
       "      <td>8.0500</td>\n",
       "      <td>0</td>\n",
       "      <td>0</td>\n",
       "      <td>1</td>\n",
       "    </tr>\n",
       "  </tbody>\n",
       "</table>\n",
       "</div>"
      ],
      "text/plain": [
       "   Pclass  Sex   Age  SibSp  Parch     Fare  Embarked_C  Embarked_Q  \\\n",
       "0       3    1  22.0      1      0   7.2500           0           0   \n",
       "1       1    0  38.0      1      0  71.2833           1           0   \n",
       "2       3    0  26.0      0      0   7.9250           0           0   \n",
       "3       1    0  35.0      1      0  53.1000           0           0   \n",
       "4       3    1  35.0      0      0   8.0500           0           0   \n",
       "\n",
       "   Embarked_S  \n",
       "0           1  \n",
       "1           0  \n",
       "2           1  \n",
       "3           1  \n",
       "4           1  "
      ]
     },
     "execution_count": 3,
     "metadata": {},
     "output_type": "execute_result"
    }
   ],
   "source": [
    "X = df.drop(columns=['Survived'], axis=1)\n",
    "y = df['Survived']\n",
    "\n",
    "X.head()"
   ]
  },
  {
   "cell_type": "code",
   "execution_count": 4,
   "metadata": {},
   "outputs": [],
   "source": [
    "scaler = StandardScaler()\n",
    "scaler.fit(X)\n",
    "\n",
    "X_normalized = scaler.transform(X)"
   ]
  },
  {
   "cell_type": "code",
   "execution_count": 5,
   "metadata": {},
   "outputs": [],
   "source": [
    "X_train, X_test, y_train, y_test = train_test_split(X_normalized, y, test_size=0.2)"
   ]
  },
  {
   "cell_type": "code",
   "execution_count": 6,
   "metadata": {},
   "outputs": [
    {
     "data": {
      "text/plain": [
       "(710, 9)"
      ]
     },
     "execution_count": 6,
     "metadata": {},
     "output_type": "execute_result"
    }
   ],
   "source": [
    "X_train.shape"
   ]
  },
  {
   "cell_type": "markdown",
   "metadata": {},
   "source": [
    "# Keras simple model"
   ]
  },
  {
   "cell_type": "markdown",
   "metadata": {},
   "source": [
    "## hyper params\n",
    "- ใช้ activation relu เพื่อลดโอกาส Vanishing / Andrew แนะนำ relu มากกว่า sigmoid\n",
    "- output เป็น sigmoid เพราะ 2 class\n",
    "- optimize = 'adam' เพราะ มี momentum\n",
    "- batch size เป็น 2**n"
   ]
  },
  {
   "cell_type": "code",
   "execution_count": 7,
   "metadata": {},
   "outputs": [],
   "source": [
    "model = Sequential()\n",
    "\n",
    "# input (hidden) layer\n",
    "model.add(Dense(8, input_shape=(X_train.shape[1],), activation='relu'))\n",
    "# hidden layer\n",
    "model.add(Dense(4, activation='relu'))\n",
    "# output layer\n",
    "model.add(Dense(1, activation='sigmoid'))"
   ]
  },
  {
   "cell_type": "code",
   "execution_count": 8,
   "metadata": {},
   "outputs": [],
   "source": [
    "model.compile(optimizer='adam', loss='binary_crossentropy', metrics=['accuracy'])"
   ]
  },
  {
   "cell_type": "code",
   "execution_count": 9,
   "metadata": {},
   "outputs": [
    {
     "name": "stdout",
     "output_type": "stream",
     "text": [
      "Epoch 1/50\n",
      "36/36 [==============================] - 0s 7ms/step - loss: 0.7088 - accuracy: 0.5088 - val_loss: 0.7346 - val_accuracy: 0.5000\n",
      "Epoch 2/50\n",
      "36/36 [==============================] - 0s 3ms/step - loss: 0.6812 - accuracy: 0.5792 - val_loss: 0.7045 - val_accuracy: 0.5634\n",
      "Epoch 3/50\n",
      "36/36 [==============================] - 0s 3ms/step - loss: 0.6620 - accuracy: 0.6444 - val_loss: 0.6841 - val_accuracy: 0.6197\n",
      "Epoch 4/50\n",
      "36/36 [==============================] - 0s 3ms/step - loss: 0.6477 - accuracy: 0.6884 - val_loss: 0.6692 - val_accuracy: 0.6408\n",
      "Epoch 5/50\n",
      "36/36 [==============================] - 0s 3ms/step - loss: 0.6354 - accuracy: 0.7025 - val_loss: 0.6556 - val_accuracy: 0.6338\n",
      "Epoch 6/50\n",
      "36/36 [==============================] - 0s 3ms/step - loss: 0.6242 - accuracy: 0.7254 - val_loss: 0.6442 - val_accuracy: 0.6408\n",
      "Epoch 7/50\n",
      "36/36 [==============================] - 0s 3ms/step - loss: 0.6137 - accuracy: 0.7500 - val_loss: 0.6313 - val_accuracy: 0.6831\n",
      "Epoch 8/50\n",
      "36/36 [==============================] - 0s 3ms/step - loss: 0.6038 - accuracy: 0.7729 - val_loss: 0.6213 - val_accuracy: 0.7042\n",
      "Epoch 9/50\n",
      "36/36 [==============================] - 0s 3ms/step - loss: 0.5947 - accuracy: 0.7746 - val_loss: 0.6118 - val_accuracy: 0.7113\n",
      "Epoch 10/50\n",
      "36/36 [==============================] - 0s 3ms/step - loss: 0.5858 - accuracy: 0.7764 - val_loss: 0.6002 - val_accuracy: 0.7535\n",
      "Epoch 11/50\n",
      "36/36 [==============================] - 0s 3ms/step - loss: 0.5774 - accuracy: 0.7817 - val_loss: 0.5928 - val_accuracy: 0.7113\n",
      "Epoch 12/50\n",
      "36/36 [==============================] - 0s 3ms/step - loss: 0.5700 - accuracy: 0.7835 - val_loss: 0.5826 - val_accuracy: 0.7676\n",
      "Epoch 13/50\n",
      "36/36 [==============================] - 0s 3ms/step - loss: 0.5619 - accuracy: 0.7817 - val_loss: 0.5738 - val_accuracy: 0.7676\n",
      "Epoch 14/50\n",
      "36/36 [==============================] - 0s 3ms/step - loss: 0.5548 - accuracy: 0.7958 - val_loss: 0.5646 - val_accuracy: 0.7676\n",
      "Epoch 15/50\n",
      "36/36 [==============================] - 0s 3ms/step - loss: 0.5479 - accuracy: 0.7975 - val_loss: 0.5571 - val_accuracy: 0.7817\n",
      "Epoch 16/50\n",
      "36/36 [==============================] - 0s 3ms/step - loss: 0.5414 - accuracy: 0.7940 - val_loss: 0.5483 - val_accuracy: 0.7817\n",
      "Epoch 17/50\n",
      "36/36 [==============================] - 0s 3ms/step - loss: 0.5352 - accuracy: 0.7975 - val_loss: 0.5400 - val_accuracy: 0.7887\n",
      "Epoch 18/50\n",
      "36/36 [==============================] - 0s 3ms/step - loss: 0.5288 - accuracy: 0.8063 - val_loss: 0.5346 - val_accuracy: 0.7958\n",
      "Epoch 19/50\n",
      "36/36 [==============================] - 0s 3ms/step - loss: 0.5227 - accuracy: 0.8063 - val_loss: 0.5261 - val_accuracy: 0.7958\n",
      "Epoch 20/50\n",
      "36/36 [==============================] - 0s 3ms/step - loss: 0.5178 - accuracy: 0.8028 - val_loss: 0.5201 - val_accuracy: 0.8028\n",
      "Epoch 21/50\n",
      "36/36 [==============================] - 0s 3ms/step - loss: 0.5123 - accuracy: 0.7993 - val_loss: 0.5131 - val_accuracy: 0.8099\n",
      "Epoch 22/50\n",
      "36/36 [==============================] - 0s 3ms/step - loss: 0.5076 - accuracy: 0.8028 - val_loss: 0.5074 - val_accuracy: 0.8169\n",
      "Epoch 23/50\n",
      "36/36 [==============================] - 0s 3ms/step - loss: 0.5031 - accuracy: 0.8081 - val_loss: 0.5013 - val_accuracy: 0.8169\n",
      "Epoch 24/50\n",
      "36/36 [==============================] - 0s 3ms/step - loss: 0.4990 - accuracy: 0.8011 - val_loss: 0.4951 - val_accuracy: 0.8239\n",
      "Epoch 25/50\n",
      "36/36 [==============================] - 0s 3ms/step - loss: 0.4956 - accuracy: 0.8011 - val_loss: 0.4890 - val_accuracy: 0.8239\n",
      "Epoch 26/50\n",
      "36/36 [==============================] - 0s 3ms/step - loss: 0.4918 - accuracy: 0.8028 - val_loss: 0.4852 - val_accuracy: 0.8239\n",
      "Epoch 27/50\n",
      "36/36 [==============================] - 0s 6ms/step - loss: 0.4890 - accuracy: 0.8028 - val_loss: 0.4804 - val_accuracy: 0.8239\n",
      "Epoch 28/50\n",
      "36/36 [==============================] - 0s 3ms/step - loss: 0.4851 - accuracy: 0.8099 - val_loss: 0.4749 - val_accuracy: 0.8451\n",
      "Epoch 29/50\n",
      "36/36 [==============================] - 0s 3ms/step - loss: 0.4824 - accuracy: 0.8063 - val_loss: 0.4701 - val_accuracy: 0.8451\n",
      "Epoch 30/50\n",
      "36/36 [==============================] - 0s 3ms/step - loss: 0.4789 - accuracy: 0.8063 - val_loss: 0.4680 - val_accuracy: 0.8451\n",
      "Epoch 31/50\n",
      "36/36 [==============================] - 0s 3ms/step - loss: 0.4758 - accuracy: 0.8063 - val_loss: 0.4604 - val_accuracy: 0.8592\n",
      "Epoch 32/50\n",
      "36/36 [==============================] - 0s 3ms/step - loss: 0.4732 - accuracy: 0.8081 - val_loss: 0.4579 - val_accuracy: 0.8451\n",
      "Epoch 33/50\n",
      "36/36 [==============================] - 0s 3ms/step - loss: 0.4707 - accuracy: 0.8063 - val_loss: 0.4539 - val_accuracy: 0.8521\n",
      "Epoch 34/50\n",
      "36/36 [==============================] - 0s 3ms/step - loss: 0.4680 - accuracy: 0.8134 - val_loss: 0.4493 - val_accuracy: 0.8521\n",
      "Epoch 35/50\n",
      "36/36 [==============================] - 0s 3ms/step - loss: 0.4656 - accuracy: 0.8151 - val_loss: 0.4463 - val_accuracy: 0.8662\n",
      "Epoch 36/50\n",
      "36/36 [==============================] - 0s 3ms/step - loss: 0.4633 - accuracy: 0.8099 - val_loss: 0.4424 - val_accuracy: 0.8662\n",
      "Epoch 37/50\n",
      "36/36 [==============================] - 0s 3ms/step - loss: 0.4616 - accuracy: 0.8151 - val_loss: 0.4400 - val_accuracy: 0.8732\n",
      "Epoch 38/50\n",
      "36/36 [==============================] - 0s 3ms/step - loss: 0.4596 - accuracy: 0.8099 - val_loss: 0.4363 - val_accuracy: 0.8732\n",
      "Epoch 39/50\n",
      "36/36 [==============================] - 0s 3ms/step - loss: 0.4581 - accuracy: 0.8116 - val_loss: 0.4341 - val_accuracy: 0.8662\n",
      "Epoch 40/50\n",
      "36/36 [==============================] - 0s 3ms/step - loss: 0.4558 - accuracy: 0.8116 - val_loss: 0.4336 - val_accuracy: 0.8732\n",
      "Epoch 41/50\n",
      "36/36 [==============================] - 0s 3ms/step - loss: 0.4545 - accuracy: 0.8116 - val_loss: 0.4296 - val_accuracy: 0.8662\n",
      "Epoch 42/50\n",
      "36/36 [==============================] - 0s 3ms/step - loss: 0.4523 - accuracy: 0.8151 - val_loss: 0.4291 - val_accuracy: 0.8662\n",
      "Epoch 43/50\n",
      "36/36 [==============================] - 0s 3ms/step - loss: 0.4513 - accuracy: 0.8116 - val_loss: 0.4244 - val_accuracy: 0.8732\n",
      "Epoch 44/50\n",
      "36/36 [==============================] - 0s 3ms/step - loss: 0.4490 - accuracy: 0.8151 - val_loss: 0.4232 - val_accuracy: 0.8732\n",
      "Epoch 45/50\n",
      "36/36 [==============================] - 0s 3ms/step - loss: 0.4475 - accuracy: 0.8116 - val_loss: 0.4213 - val_accuracy: 0.8803\n",
      "Epoch 46/50\n",
      "36/36 [==============================] - 0s 3ms/step - loss: 0.4464 - accuracy: 0.8134 - val_loss: 0.4182 - val_accuracy: 0.8732\n",
      "Epoch 47/50\n",
      "36/36 [==============================] - 0s 3ms/step - loss: 0.4445 - accuracy: 0.8169 - val_loss: 0.4149 - val_accuracy: 0.8873\n",
      "Epoch 48/50\n",
      "36/36 [==============================] - 0s 3ms/step - loss: 0.4430 - accuracy: 0.8169 - val_loss: 0.4124 - val_accuracy: 0.8803\n",
      "Epoch 49/50\n",
      "36/36 [==============================] - 0s 4ms/step - loss: 0.4417 - accuracy: 0.8187 - val_loss: 0.4121 - val_accuracy: 0.8873\n",
      "Epoch 50/50\n",
      "36/36 [==============================] - 0s 3ms/step - loss: 0.4405 - accuracy: 0.8204 - val_loss: 0.4096 - val_accuracy: 0.8803\n"
     ]
    },
    {
     "data": {
      "text/plain": [
       "<tensorflow.python.keras.callbacks.History at 0x21aff9b2250>"
      ]
     },
     "execution_count": 9,
     "metadata": {},
     "output_type": "execute_result"
    }
   ],
   "source": [
    "model.fit(X_train, y_train, epochs=50, batch_size=16, validation_split=0.2)"
   ]
  },
  {
   "cell_type": "code",
   "execution_count": null,
   "metadata": {},
   "outputs": [],
   "source": []
  },
  {
   "cell_type": "code",
   "execution_count": null,
   "metadata": {},
   "outputs": [],
   "source": []
  }
 ],
 "metadata": {
  "kernelspec": {
   "display_name": "Python 3",
   "language": "python",
   "name": "python3"
  },
  "language_info": {
   "codemirror_mode": {
    "name": "ipython",
    "version": 3
   },
   "file_extension": ".py",
   "mimetype": "text/x-python",
   "name": "python",
   "nbconvert_exporter": "python",
   "pygments_lexer": "ipython3",
   "version": "3.8.3"
  }
 },
 "nbformat": 4,
 "nbformat_minor": 4
}
